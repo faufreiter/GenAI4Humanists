{
 "cells": [
  {
   "cell_type": "code",
   "execution_count": null,
   "id": "d202fb45-2cc6-4cab-aa2d-ba6fd8eaffc8",
   "metadata": {},
   "outputs": [
    {
     "name": "stdout",
     "output_type": "stream",
     "text": [
      "\u001b[0m\n",
      "\u001b[34m\u001b[1m  You can now view your Streamlit app in your browser.\u001b[0m\n",
      "\u001b[0m\n",
      "\u001b[34m  Local URL: \u001b[0m\u001b[1mhttp://localhost:8501\u001b[0m\n",
      "\u001b[34m  Network URL: \u001b[0m\u001b[1mhttp://10.10.4.49:8501\u001b[0m\n",
      "\u001b[0m\n",
      "Querying with: What is the document About?\n"
     ]
    }
   ],
   "source": [
    "!python -m streamlit run ./Chatbot_LLamaIndex_Streamlit_backend.py \\\n",
    "--server.enableCORS=False \\\n",
    "--server.enableXsrfProtection=False \\\n",
    "--browser.gatherUsageStats=False"
   ]
  },
  {
   "cell_type": "code",
   "execution_count": null,
   "id": "591cc670-be11-499b-996a-b86fb627e682",
   "metadata": {},
   "outputs": [],
   "source": []
  }
 ],
 "metadata": {
  "kernelspec": {
   "display_name": "Python 3 (ipykernel)",
   "language": "python",
   "name": "python3"
  },
  "language_info": {
   "codemirror_mode": {
    "name": "ipython",
    "version": 3
   },
   "file_extension": ".py",
   "mimetype": "text/x-python",
   "name": "python",
   "nbconvert_exporter": "python",
   "pygments_lexer": "ipython3",
   "version": "3.12.3"
  }
 },
 "nbformat": 4,
 "nbformat_minor": 5
}
