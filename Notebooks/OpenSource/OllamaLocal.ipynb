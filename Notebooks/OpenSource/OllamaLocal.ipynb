{
 "cells": [
  {
   "cell_type": "markdown",
   "id": "417f9f2b-97eb-459c-b997-8c4d32821a8b",
   "metadata": {},
   "source": [
    "## Using Local Ollama Models"
   ]
  },
  {
   "cell_type": "code",
   "execution_count": 1,
   "id": "a7f31085-12bb-4a26-88a5-a4c77a29dccd",
   "metadata": {},
   "outputs": [
    {
     "name": "stdout",
     "output_type": "stream",
     "text": [
      "Note: you may need to restart the kernel to use updated packages.\n"
     ]
    }
   ],
   "source": [
    "%pip install -qU ollama"
   ]
  },
  {
   "cell_type": "code",
   "execution_count": 2,
   "id": "3e663202-6c6b-47e2-9d6d-e575edefd183",
   "metadata": {},
   "outputs": [],
   "source": [
    "import ollama"
   ]
  },
  {
   "cell_type": "code",
   "execution_count": 3,
   "id": "62e28237-df29-473d-a702-bd97169ea97c",
   "metadata": {},
   "outputs": [
    {
     "data": {
      "text/plain": [
       "{'models': [{'name': 'qwen2.5:3b',\n",
       "   'model': 'qwen2.5:3b',\n",
       "   'modified_at': '2024-11-09T21:17:58.985117+01:00',\n",
       "   'size': 1929912432,\n",
       "   'digest': '357c53fb659c5076de1d65ccb0b397446227b71a42be9d1603d46168015c9e4b',\n",
       "   'details': {'parent_model': '',\n",
       "    'format': 'gguf',\n",
       "    'family': 'qwen2',\n",
       "    'families': ['qwen2'],\n",
       "    'parameter_size': '3.1B',\n",
       "    'quantization_level': 'Q4_K_M'}},\n",
       "  {'name': 'llama3.1:latest',\n",
       "   'model': 'llama3.1:latest',\n",
       "   'modified_at': '2024-10-06T20:46:18.5284789+02:00',\n",
       "   'size': 4661230766,\n",
       "   'digest': '42182419e9508c30c4b1fe55015f06b65f4ca4b9e28a744be55008d21998a093',\n",
       "   'details': {'parent_model': '',\n",
       "    'format': 'gguf',\n",
       "    'family': 'llama',\n",
       "    'families': ['llama'],\n",
       "    'parameter_size': '8.0B',\n",
       "    'quantization_level': 'Q4_0'}}]}"
      ]
     },
     "execution_count": 3,
     "metadata": {},
     "output_type": "execute_result"
    }
   ],
   "source": [
    "ollama.list()"
   ]
  },
  {
   "cell_type": "code",
   "execution_count": 4,
   "id": "5e1802af-1ca2-483e-849b-ba3a0413267a",
   "metadata": {},
   "outputs": [
    {
     "data": {
      "text/plain": [
       "dict_keys(['license', 'modelfile', 'parameters', 'template', 'details', 'model_info', 'modified_at'])"
      ]
     },
     "execution_count": 4,
     "metadata": {},
     "output_type": "execute_result"
    }
   ],
   "source": [
    "ollama.show('llama3.1').keys()"
   ]
  },
  {
   "cell_type": "code",
   "execution_count": 5,
   "id": "5369ec94-3275-415a-8dd9-822b3d64c2bf",
   "metadata": {},
   "outputs": [
    {
     "data": {
      "text/plain": [
       "{'parent_model': '',\n",
       " 'format': 'gguf',\n",
       " 'family': 'llama',\n",
       " 'families': ['llama'],\n",
       " 'parameter_size': '8.0B',\n",
       " 'quantization_level': 'Q4_0'}"
      ]
     },
     "execution_count": 5,
     "metadata": {},
     "output_type": "execute_result"
    }
   ],
   "source": [
    "ollama.show('llama3.1')['details']"
   ]
  },
  {
   "cell_type": "markdown",
   "id": "5dfd7c3d-06e4-4b9f-8de9-3e4b11e7527d",
   "metadata": {},
   "source": [
    "## Choosing Models\n",
    "\n",
    "[Llamma 3.1 models](https://ollama.com/library/llama3.1)  \n",
    "[Llamma 3.2 models](https://ollama.com/library/llama3.2)  \n",
    "[Gemma 2 Models](https://ollama.com/library/gemma2)    \n",
    "[Qwen Models](https://ollama.com/library/qwen2.5)  "
   ]
  },
  {
   "cell_type": "code",
   "execution_count": 6,
   "id": "f2d575c0-0ad7-45f0-8e63-c71e8b233dfa",
   "metadata": {},
   "outputs": [],
   "source": [
    "#model = 'llama3.1'\n",
    "model = 'qwen2.5:3b'"
   ]
  },
  {
   "cell_type": "code",
   "execution_count": 7,
   "id": "466804ec-7abc-4fda-a990-a3f316094c65",
   "metadata": {},
   "outputs": [
    {
     "name": "stdout",
     "output_type": "stream",
     "text": [
      "The sky appears blue due to a phenomenon called Rayleigh scattering. Here's a simplified explanation:\n",
      "\n",
      "When sunlight enters our atmosphere, it consists of many different colors (wavelengths) of light. Shorter wavelengths like violet and blue scatter more easily in all directions than longer wavelengths such as red and orange. \n",
      "\n",
      "Because the Earth's atmosphere is mostly made up of nitrogen and oxygen molecules, these shorter wavelengths are scattered back towards the ground from a large number of air molecule collisions.\n",
      "\n",
      "Our eyes have evolved to see blue light as bright because our visual system has an advantage at seeing this color. We perceive everything else in comparison. \n",
      "\n",
      "So when we look at the sky, we're really looking at all the blue light that's been scattered around us by the Earth's atmosphere. This is why the sky appears blue during the day.\n",
      "\n",
      "However, it should be noted that other factors can influence the color of the sky:\n",
      "\n",
      "- During sunrise and sunset, when the sun is closer to the horizon, sunlight travels through more air molecules, which causes light with longer wavelengths (like red) to dominate, resulting in a redder appearance.\n",
      "- Sometimes, scattering by aerosols or pollutants can cause unusual colors like orange during a total solar eclipse.\n",
      "- At night, we see the stars directly without the scattering effects of our atmosphere.\n"
     ]
    }
   ],
   "source": [
    "response = ollama.chat(model=model, messages=[\n",
    "  {\n",
    "    'role': 'user',\n",
    "    'content': 'Why is the sky blue?',\n",
    "  },\n",
    "])\n",
    "print(response['message']['content'])"
   ]
  },
  {
   "cell_type": "code",
   "execution_count": null,
   "id": "1269a183-59cd-4ed9-ba67-90c4406d628f",
   "metadata": {},
   "outputs": [],
   "source": []
  }
 ],
 "metadata": {
  "kernelspec": {
   "display_name": "Python 3 (ipykernel)",
   "language": "python",
   "name": "python3"
  },
  "language_info": {
   "codemirror_mode": {
    "name": "ipython",
    "version": 3
   },
   "file_extension": ".py",
   "mimetype": "text/x-python",
   "name": "python",
   "nbconvert_exporter": "python",
   "pygments_lexer": "ipython3",
   "version": "3.9.13"
  }
 },
 "nbformat": 4,
 "nbformat_minor": 5
}
